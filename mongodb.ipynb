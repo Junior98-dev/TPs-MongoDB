{
 "cells": [
  {
   "cell_type": "code",
   "execution_count": 1,
   "id": "bc51d5e7-a02a-4f62-88c5-8e63a7b4a2fb",
   "metadata": {},
   "outputs": [
    {
     "name": "stdout",
     "output_type": "stream",
     "text": [
      "Collecting pymongo\n",
      "  Downloading pymongo-4.10.1-cp312-cp312-win_amd64.whl.metadata (22 kB)\n",
      "Collecting dnspython<3.0.0,>=1.16.0 (from pymongo)\n",
      "  Downloading dnspython-2.7.0-py3-none-any.whl.metadata (5.8 kB)\n",
      "Downloading pymongo-4.10.1-cp312-cp312-win_amd64.whl (926 kB)\n",
      "   ---------------------------------------- 0.0/926.7 kB ? eta -:--:--\n",
      "   --------------------------------------- 926.7/926.7 kB 14.1 MB/s eta 0:00:00\n",
      "Downloading dnspython-2.7.0-py3-none-any.whl (313 kB)\n",
      "Installing collected packages: dnspython, pymongo\n",
      "Successfully installed dnspython-2.7.0 pymongo-4.10.1\n"
     ]
    }
   ],
   "source": [
    "# installer pymongo\n",
    "! pip install pymongo"
   ]
  },
  {
   "cell_type": "code",
   "execution_count": 7,
   "id": "18c4f881-d903-438d-ad65-7f03209accdc",
   "metadata": {},
   "outputs": [],
   "source": [
    "# importation de mongo client\n",
    "from pymongo import MongoClient"
   ]
  },
  {
   "cell_type": "code",
   "execution_count": 11,
   "id": "42a42a14-e29c-4e46-856e-655158a3ef1e",
   "metadata": {},
   "outputs": [],
   "source": [
    "# Connexion au serveur mongoDB \n",
    "client = MongoClient(\"mongodb://localhost:27017/\")"
   ]
  },
  {
   "cell_type": "code",
   "execution_count": 43,
   "id": "dc078ca4-532b-41cd-b72f-fb5d6fd4d5f0",
   "metadata": {},
   "outputs": [
    {
     "name": "stdout",
     "output_type": "stream",
     "text": [
      "Connexion réussi à MongoDB\n"
     ]
    }
   ],
   "source": [
    "# Sélection de la base de données Formation\n",
    "db = client[\"formation\"]\n",
    "\n",
    "print(\"Connexion réussi à MongoDB\")"
   ]
  },
  {
   "cell_type": "code",
   "execution_count": 15,
   "id": "fa9f065b-be88-4e9b-b1e3-c19bbb4e07ce",
   "metadata": {},
   "outputs": [
    {
     "data": {
      "text/plain": [
       "['admin', 'config', 'formation', 'local', 're-dep']"
      ]
     },
     "execution_count": 15,
     "metadata": {},
     "output_type": "execute_result"
    }
   ],
   "source": [
    "# Afficher les bases de données\n",
    "client.list_database_names()"
   ]
  },
  {
   "cell_type": "code",
   "execution_count": 31,
   "id": "af9ba224-9685-425a-8e1c-333fca78c986",
   "metadata": {},
   "outputs": [],
   "source": [
    "db = client[\"re-dep\"]"
   ]
  },
  {
   "cell_type": "code",
   "execution_count": 33,
   "id": "94cf699f-e93f-4a28-aad0-2aae33d5d227",
   "metadata": {},
   "outputs": [
    {
     "name": "stdout",
     "output_type": "stream",
     "text": [
      "Collection(Database(MongoClient(host=['localhost:27017'], document_class=dict, tz_aware=False, connect=True), 're-dep'), 'departements')\n"
     ]
    }
   ],
   "source": [
    "# Affichage de la collection regions\n",
    "reg = db['departements']\n",
    "\n",
    "print(reg)"
   ]
  },
  {
   "cell_type": "code",
   "execution_count": 35,
   "id": "e392d6db-a4e9-46d6-b020-8df0be431447",
   "metadata": {},
   "outputs": [
    {
     "name": "stdout",
     "output_type": "stream",
     "text": [
      "{'_id': ObjectId('6788e0b8b03852b532b0070c'),\n",
      " 'dep_name': 'Ain',\n",
      " 'num_dep': '01',\n",
      " 'region_name': 'Auvergne-Rhône-Alpes'}\n"
     ]
    }
   ],
   "source": [
    "# Afficher la collection\n",
    "from pprint import pprint\n",
    "\n",
    "pprint(reg.find_one())"
   ]
  },
  {
   "cell_type": "code",
   "execution_count": 37,
   "id": "21d5910d-b30b-4047-89fa-a59d39445940",
   "metadata": {},
   "outputs": [
    {
     "data": {
      "text/plain": [
       "InsertOneResult(ObjectId('678903ff9cea30bbf386be32'), acknowledged=True)"
      ]
     },
     "execution_count": 37,
     "metadata": {},
     "output_type": "execute_result"
    }
   ],
   "source": [
    "# insertion d'un document dans notre base\n",
    "db.utilisateurs.insert_one({\"Nom\":\"Marc\",\"Age\":\"35\", \"Ville\":\"Lille\"})"
   ]
  },
  {
   "cell_type": "code",
   "execution_count": 65,
   "id": "6e424449-a18f-43af-9147-91596eabab4f",
   "metadata": {},
   "outputs": [
    {
     "name": "stdout",
     "output_type": "stream",
     "text": [
      "{'_id': ObjectId('6788dcaf51df9763af540d2d'), 'nom': 'Pierre', 'age': '30', 'ville': 'Paris'}\n",
      "{'_id': ObjectId('6788dd9c51df9763af540d2e'), 'nom': 'Bob', 'age': '27', 'ville': 'Lyon'}\n",
      "{'_id': ObjectId('6788dd9c51df9763af540d2f'), 'nom': 'Pierre', 'age': '30', 'ville': 'Paris'}\n"
     ]
    }
   ],
   "source": [
    "for user in db.utilisateurs.find():\n",
    "    print(user)"
   ]
  },
  {
   "cell_type": "code",
   "execution_count": 69,
   "id": "0b7dd466-7515-49c3-8c85-d8857b5257c0",
   "metadata": {},
   "outputs": [
    {
     "name": "stdout",
     "output_type": "stream",
     "text": [
      "{'_id': ObjectId('6788dcaf51df9763af540d2d'), 'nom': 'Pierre', 'age': '30', 'ville': 'Paris'}\n",
      "{'_id': ObjectId('6788dd9c51df9763af540d2f'), 'nom': 'Pierre', 'age': '30', 'ville': 'Paris'}\n"
     ]
    }
   ],
   "source": [
    "# Récuperer des documents avec un filtre\n",
    "for user in db.utilisateurs.find({\"ville\":\"Paris\"}):\n",
    "    print(user)"
   ]
  },
  {
   "cell_type": "code",
   "execution_count": null,
   "id": "18725f84-dc73-43f1-8532-348f1aae8e46",
   "metadata": {},
   "outputs": [],
   "source": [
    "Exercice 1 : Afficher les departements 01, 04 et 75 de la collection regions avec des filtres."
   ]
  },
  {
   "cell_type": "code",
   "execution_count": 71,
   "id": "6669f8cf-819f-4e31-8eac-485225bdec4f",
   "metadata": {},
   "outputs": [
    {
     "name": "stdout",
     "output_type": "stream",
     "text": [
      "{'_id': ObjectId('6788e073b03852b532b006a5'), 'num_dep': '01', 'dep_name': 'Ain', 'region_name': 'Auvergne-Rhône-Alpes'}\n",
      "{'_id': ObjectId('6788e073b03852b532b006a8'), 'num_dep': '04', 'dep_name': 'Alpes-de-Haute-Provence', 'region_name': \"Provence-Alpes-Côte d'Azur\"}\n",
      "{'_id': ObjectId('6788e073b03852b532b006f0'), 'num_dep': 75, 'dep_name': 'Paris', 'region_name': 'Île-de-France'}\n"
     ]
    }
   ],
   "source": [
    "res = db[\"regions\"].find({\"$or\":[{\"num_dep\":\"01\"},{\"num_dep\":\"04\"},{\"num_dep\":75}]})\n",
    "for r in res:\n",
    "    print(r)"
   ]
  },
  {
   "cell_type": "code",
   "execution_count": null,
   "id": "d2e09fb8-15d5-48f3-a451-044a938a5b41",
   "metadata": {},
   "outputs": [],
   "source": [
    "Exercice 2 :\n",
    "\n",
    "1. Ajouter 5 utilisateurs à la collection utilisateurs avec des ages différents\n",
    "2. Trouvez les utitilisateurs qui ont un age supérieur à 30"
   ]
  },
  {
   "cell_type": "code",
   "execution_count": 73,
   "id": "79854762-61a5-42c4-9f88-8540656ca0a8",
   "metadata": {},
   "outputs": [
    {
     "data": {
      "text/plain": [
       "InsertManyResult([ObjectId('67890bbb9cea30bbf386be33'), ObjectId('67890bbb9cea30bbf386be34'), ObjectId('67890bbb9cea30bbf386be35'), ObjectId('67890bbb9cea30bbf386be36'), ObjectId('67890bbb9cea30bbf386be37')], acknowledged=True)"
      ]
     },
     "execution_count": 73,
     "metadata": {},
     "output_type": "execute_result"
    }
   ],
   "source": [
    "# Correction exercice 2 :\n",
    "# 1.Ajouter 5 utilisateurs à la collection utilisateurs avec des ages différents\n",
    "\n",
    "db.utilisateurs.insert_many([\n",
    "    {\"Nom\" : \"Charles\", \"Age\":\"40\",\"Ville\":\"Paris\"},\n",
    "    {\"Nom\" : \"Alice\", \"Age\":\"30\",\"Ville\":\"Marseille\"},\n",
    "    {\"Nom\" : \"Claude\", \"Age\":\"45\",\"Ville\":\"Cherbourg\"},\n",
    "    {\"Nom\" : \"Caroline\", \"Age\":\"25\",\"Ville\":\"La Défense\"},\n",
    "    {\"Nom\" : \"Ryane bg\", \"Age\":\"23\",\"Ville\":\"Montpelier\"}\n",
    "])"
   ]
  },
  {
   "cell_type": "markdown",
   "id": "363ffcfc-1de6-46fd-b59a-88b414e31588",
   "metadata": {},
   "source": []
  },
  {
   "cell_type": "code",
   "execution_count": null,
   "id": "9b3544bc-87ef-4366-a186-a78a718ec53f",
   "metadata": {},
   "outputs": [],
   "source": [
    "# 2.Trouvez les utitilisateurs qui ont un age supérieur à 30\n",
    "utilisateurs = db.Utilisateurs.find({\"Age\":{\"$gt\":'30'}})\n",
    "for utilisateur in utilisateurs:\n",
    "    print(utilisateur)"
   ]
  },
  {
   "cell_type": "markdown",
   "id": "5f04d717-505a-4e5d-9fb6-917c799da4db",
   "metadata": {},
   "source": [
    "TP1 :\n",
    "\n",
    "1. Créer une base de données pour gérer une application de bibliothèque (Library)\n",
    "2. Ajouter les collections : Livres, auteurs et lecteurs\n",
    "3. Insérer des données pertinentes dans chaque collection.\n",
    "4. Effectuez les opérations CRUD\n",
    "   . Ajouter des livres et les associer à des auteurs\n",
    "   . Mettez à jour des informations (exemple ajouter année de publication)\n",
    "   . Supprimez les livres publiés avant l'an 2000.\n",
    "Testez les performances en ajoutant un index sur le champ titre de la collection livres"
   ]
  },
  {
   "cell_type": "code",
   "execution_count": 79,
   "id": "52c66067-e85b-48bc-8f9f-9994bc246b18",
   "metadata": {},
   "outputs": [
    {
     "data": {
      "text/plain": [
       "['Library', 'admin', 'config', 'formation', 'local', 're-dep']"
      ]
     },
     "execution_count": 79,
     "metadata": {},
     "output_type": "execute_result"
    }
   ],
   "source": [
    "client.list_database_names()"
   ]
  },
  {
   "cell_type": "code",
   "execution_count": 81,
   "id": "9c32d77a-e696-4bc7-b880-e87c73eb770a",
   "metadata": {},
   "outputs": [
    {
     "name": "stdout",
     "output_type": "stream",
     "text": [
      "Connexion réussi à MongoDB\n"
     ]
    }
   ],
   "source": [
    "db = client[\"Library\"]\n",
    "print(\"Connexion réussi à MongoDB\")"
   ]
  },
  {
   "cell_type": "markdown",
   "id": "f0b80678-eafc-4bfe-a06c-7efcfd5c86fc",
   "metadata": {},
   "source": [
    "2. Ajouter les collections : Livres, auteurs et lecteurs"
   ]
  },
  {
   "cell_type": "code",
   "execution_count": 87,
   "id": "32a078d7-6ad1-4c8d-9940-11f5a0e054e0",
   "metadata": {},
   "outputs": [
    {
     "data": {
      "text/plain": [
       "InsertManyResult([1, 2, 3, 4], acknowledged=True)"
      ]
     },
     "execution_count": 87,
     "metadata": {},
     "output_type": "execute_result"
    }
   ],
   "source": [
    "# Suppression des anciennes données pour redémarrer proprement\n",
    "db.livres.drop()\n",
    "db.auteurs.drop()\n",
    "db.lecteurs.drop()\n",
    "\n",
    "# 1. Création des collections et insertion de données\n",
    "# Insertion des auteurs\n",
    "auteurs = [\n",
    "    {\"_id\": 1, \"nom\": \"Victor Hugo\", \"nationalite\": \"Française\"},\n",
    "    {\"_id\": 2, \"nom\": \"Jane Austen\", \"nationalite\": \"Britannique\"},\n",
    "    {\"_id\": 3, \"nom\": \"Mark Twain\", \"nationalite\": \"Américaine\"}\n",
    "]\n",
    "db.auteurs.insert_many(auteurs)\n",
    "\n",
    "# Insertion des livres\n",
    "livres = [\n",
    "    {\"_id\": 1, \"titre\": \"Les Misérables\", \"annee\": 1862, \"auteur_id\": 1},\n",
    "    {\"_id\": 2, \"titre\": \"Notre-Dame de Paris\", \"annee\": 1831, \"auteur_id\": 1},\n",
    "    {\"_id\": 3, \"titre\": \"Pride and Prejudice\", \"annee\": 1813, \"auteur_id\": 2},\n",
    "    {\"_id\": 4, \"titre\": \"Adventures of Huckleberry Finn\", \"annee\": 1884, \"auteur_id\": 3}\n",
    "]\n",
    "db.livres.insert_many(livres)\n",
    "\n"
   ]
  },
  {
   "cell_type": "code",
   "execution_count": 89,
   "id": "91e26086-1b32-45c9-89fa-28cf80831ac9",
   "metadata": {},
   "outputs": [
    {
     "data": {
      "text/plain": [
       "InsertManyResult([1, 2, 3], acknowledged=True)"
      ]
     },
     "execution_count": 89,
     "metadata": {},
     "output_type": "execute_result"
    }
   ],
   "source": [
    "# Insertion des lecteurs\n",
    "lecteurs = [\n",
    "    {\"_id\": 1, \"nom\": \"Alice\", \"emprunts\": []},\n",
    "    {\"_id\": 2, \"nom\": \"Bob\", \"emprunts\": [1, 3]},\n",
    "    {\"_id\": 3, \"nom\": \"Charlie\", \"emprunts\": [2]}\n",
    "]\n",
    "db.lecteurs.insert_many(lecteurs)"
   ]
  },
  {
   "cell_type": "markdown",
   "id": "8f84e974-2d2b-4541-b78c-b8bbf33d69b8",
   "metadata": {},
   "source": [
    "4. Effectuez les opérations CRUD\n",
    "   # a. Ajouter un livre et l'associer à un auteur"
   ]
  },
  {
   "cell_type": "code",
   "execution_count": 95,
   "id": "ad1443ef-4e1c-4a45-a9b9-1ed6f30d8cfb",
   "metadata": {},
   "outputs": [
    {
     "data": {
      "text/plain": [
       "InsertOneResult(6, acknowledged=True)"
      ]
     },
     "execution_count": 95,
     "metadata": {},
     "output_type": "execute_result"
    }
   ],
   "source": [
    "nouveau_livres = {\"_id\": 6, \"titre\": \"Harry poter\", \"annee\": 1990, \"auteur_id\": 3}\n",
    "db.livres.insert_one(nouveau_livres)"
   ]
  },
  {
   "cell_type": "code",
   "execution_count": 97,
   "id": "d08a85ad-dff0-4216-8b94-18dcab2d4466",
   "metadata": {},
   "outputs": [
    {
     "data": {
      "text/plain": [
       "UpdateResult({'n': 1, 'nModified': 1, 'ok': 1.0, 'updatedExisting': True}, acknowledged=True)"
      ]
     },
     "execution_count": 97,
     "metadata": {},
     "output_type": "execute_result"
    }
   ],
   "source": [
    "# b. Mettre à jour un livre (ajout de l'année de publication si elle manque)\n",
    "db.livres.update_one(\n",
    "    {\"_id\": 5},\n",
    "    {\"$set\": {\"annee\": 1880}}\n",
    ")"
   ]
  },
  {
   "cell_type": "code",
   "execution_count": null,
   "id": "06fc93d3-e224-4f0d-ac26-dda796a30f7d",
   "metadata": {},
   "outputs": [],
   "source": [
    "# c. Supprimer les livres publiés avant l'année 2000\n",
    "db.livres.delete_many({\"annee\": {\"$lt\": 2000}})"
   ]
  },
  {
   "cell_type": "code",
   "execution_count": null,
   "id": "21fdc5e5-b2f2-4ae3-ba1d-33142d4bb827",
   "metadata": {},
   "outputs": [],
   "source": [
    "# 3. Ajout d'un index sur le champ titre pour améliorer les performances\n",
    "db.livres.create_index([(\"titre\", ASCENDING)])"
   ]
  },
  {
   "cell_type": "code",
   "execution_count": null,
   "id": "2b46f34b-b3fa-437d-894a-501de11ebeb6",
   "metadata": {},
   "outputs": [],
   "source": [
    "# 4. Vérification des données restants\n",
    "print(\"\\nLivres restants après suppression :\")\n",
    "pprint(list(db.livres.find()))"
   ]
  },
  {
   "cell_type": "code",
   "execution_count": null,
   "id": "de34b408-eeff-40e9-800d-c6cfe6c080c7",
   "metadata": {},
   "outputs": [],
   "source": [
    "print(\"\\nIndex existants sur la collection livres :\")\n",
    "pprint(list(db.livres.index_information()))"
   ]
  }
 ],
 "metadata": {
  "kernelspec": {
   "display_name": "Python [conda env:base] *",
   "language": "python",
   "name": "conda-base-py"
  },
  "language_info": {
   "codemirror_mode": {
    "name": "ipython",
    "version": 3
   },
   "file_extension": ".py",
   "mimetype": "text/x-python",
   "name": "python",
   "nbconvert_exporter": "python",
   "pygments_lexer": "ipython3",
   "version": "3.12.7"
  }
 },
 "nbformat": 4,
 "nbformat_minor": 5
}
